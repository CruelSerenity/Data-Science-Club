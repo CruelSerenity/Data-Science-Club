{
 "cells": [
  {
   "cell_type": "markdown",
   "metadata": {},
   "source": [
    "# Python Bootcamp"
   ]
  },
  {
   "cell_type": "markdown",
   "metadata": {},
   "source": [
    "The goal of this bootcamp is to familiarize DSC members with Python. \n",
    "\n",
    "This material is necessary but not sufficient for participating in the club. That is, the material covered here is only part of what we will be using in the coming weeks. However, this material will give you a kickstart on Python. \n",
    "\n",
    "Keep in mind, you and many others in the club will learn as you go, so do not be hard on yourself. \n",
    "\n",
    "p.s. Google is your bff for learning to code"
   ]
  },
  {
   "cell_type": "markdown",
   "metadata": {},
   "source": [
    "# Hello World!\n",
    "\n",
    "If you have programmed in another langauge before, the material below will be a quick review.\n",
    "\n",
    "For those that haven't, the material below is general to any programming langauge you will use. "
   ]
  },
  {
   "cell_type": "markdown",
   "metadata": {},
   "source": [
    "The first function we will learn in Python is the $print$ function\n",
    "\n",
    "As the name suggests, this function prints whatever input is inside. \n",
    "\n",
    "Use the print function to print:\n",
    "\n",
    "\n",
    "1)\"Hello World!\"\n",
    "\n",
    "2) 5+3"
   ]
  },
  {
   "cell_type": "code",
   "execution_count": null,
   "metadata": {},
   "outputs": [],
   "source": [
    "print(\"put your text in\")"
   ]
  },
  {
   "cell_type": "markdown",
   "metadata": {},
   "source": [
    "# Variables and Data Types"
   ]
  },
  {
   "cell_type": "markdown",
   "metadata": {},
   "source": [
    "In this section we will explore one of the four basic data types in Python:"
   ]
  },
  {
   "cell_type": "markdown",
   "metadata": {},
   "source": [
    "## Strings"
   ]
  },
  {
   "cell_type": "markdown",
   "metadata": {},
   "source": [
    "Strings are how we express text in programming langauges. \n",
    "\n",
    "To define a string in  Python we simply put quotes around text.\n",
    "\n",
    "Python interprets both \"  \" and '  '.\n",
    "\n",
    "Let's explore strings and their properties:"
   ]
  },
  {
   "cell_type": "code",
   "execution_count": null,
   "metadata": {},
   "outputs": [],
   "source": [
    "# Here we define to variables\n",
    "a = \"Hello\"\n",
    "b = 'World'\n"
   ]
  },
  {
   "cell_type": "code",
   "execution_count": null,
   "metadata": {},
   "outputs": [],
   "source": [
    "print(type(a)) # This will return the type of the varible, in this case 'str'"
   ]
  },
  {
   "cell_type": "code",
   "execution_count": null,
   "metadata": {},
   "outputs": [],
   "source": [
    "# What do you think will happen if we print:\n",
    "print(a+b)"
   ]
  },
  {
   "cell_type": "markdown",
   "metadata": {},
   "source": [
    "#### Print \"Hello World!\" (With space and with \"!\") using the variables a and b"
   ]
  },
  {
   "cell_type": "code",
   "execution_count": null,
   "metadata": {},
   "outputs": [],
   "source": [
    "\n"
   ]
  },
  {
   "cell_type": "markdown",
   "metadata": {},
   "source": [
    "#### Substrings and getting elements of a string"
   ]
  },
  {
   "cell_type": "code",
   "execution_count": null,
   "metadata": {},
   "outputs": [],
   "source": [
    "name = \"Title.,LastName FirstName\""
   ]
  },
  {
   "cell_type": "code",
   "execution_count": null,
   "metadata": {},
   "outputs": [],
   "source": [
    "# Get the 7th character of the name variable. \n",
    "# You can access the ith element of name by: name[i]. Remember, indexing starts with 0\n"
   ]
  },
  {
   "cell_type": "code",
   "execution_count": null,
   "metadata": {},
   "outputs": [],
   "source": [
    "# Split name by \",\"\n",
    "title,full_name = name.split(\",\")\n",
    "print(title)\n",
    "print(full_name)"
   ]
  },
  {
   "cell_type": "markdown",
   "metadata": {},
   "source": [
    "Split full_name by \" \". The output is a list of length 2. \n",
    "In a similar fashion to how we defined title and full_name above, define last_name & first_name as the two variables you get by splitting one by \" \". "
   ]
  },
  {
   "cell_type": "code",
   "execution_count": null,
   "metadata": {},
   "outputs": [],
   "source": []
  },
  {
   "cell_type": "markdown",
   "metadata": {},
   "source": [
    "## Booleans"
   ]
  },
  {
   "cell_type": "markdown",
   "metadata": {},
   "source": [
    "Booleans - binary logical values which are true or false. \n",
    "\n",
    "\"|\" represents the logic operator 'or' \n", "\n",
    "\"&\" represents the logic operator 'and' \n",
    "\n",
    "Here are some properties of booleans:"
   ]
  },
  {
   "cell_type": "code",
   "execution_count": null,
   "metadata": {},
   "outputs": [],
   "source": [
    "flag_1 = True\n",
    "flag_2 = False\n",
    "\n",
    "print(flag_1 | flag_2) \n",
    "print(flag_2 | flag_2)\n",
    "print(flag_1 & flag_2)\n",
    "print(flag_1 & flag_1)\n",
    "print(True+True+False+True+False)"
   ]
  },
  {
   "cell_type": "markdown",
   "metadata": {},
   "source": [
    "## Ints"
   ]
  },
  {
   "cell_type": "markdown",
   "metadata": {},
   "source": [
    "Ints - Integer values, or in math $\\mathbb{N} = \\{i:i = ..., -1,0,1,...\\}$\n",
    "\n",
    "When you divide an integer by an integer, the computer \"floors\" the values.\n",
    "That is if 3/2 = 1.5, the computer \"chops off\" the decimals and returns 1.\n", "\n",
    "What do you think will happen in the following examples?"
   ]
  },
  {
   "cell_type": "code",
   "execution_count": null,
   "metadata": {},
   "outputs": [],
   "source": [
    "print(2+5)\n",
    "print(2-5)\n",
    "print(2*5)\n",
    "print(2/5)"
   ]
  },
  {
   "cell_type": "markdown",
   "metadata": {},
   "source": [
    "The modolu operator (%) gives the remainder when dividing integers.\n",
    "It is very useful in computer programming. \n",
    "\n",
    "An example:"
   ]
  },
  {
   "cell_type": "code",
   "execution_count": null,
   "metadata": {},
   "outputs": [],
   "source": [
    "5 % 2 "
   ]
  },
  {
   "cell_type": "markdown",
   "metadata": {},
   "source": [
    "What do you predict will happen below?"
   ]
  },
  {
   "cell_type": "code",
   "execution_count": null,
   "metadata": {},
   "outputs": [],
   "source": [
    "print(17 % 5)\n",
    "print(1017 % 10)\n",
    "print(10 % 3)"
   ]
  },
  {
   "cell_type": "markdown",
   "metadata": {},
   "source": [
    "## Floats \n",
    "\n",
    "Floats - Floating point number, the computer's way of representing real numbers. \n",
    "\n",
    "Here are some examples of float operations:"
   ]
  },
  {
   "cell_type": "code",
   "execution_count": null,
   "metadata": {},
   "outputs": [],
   "source": [
    "flt = 5.417\n",
    "\n",
    "print(flt**2)\n",
    "print(flt*5)\n",
    "print(flt**0.5)\n",
    "print(flt+5.0)\n",
    "print(flt/5)\n",
    "print(flt/5.0)"
   ]
  },
  {
   "cell_type": "markdown",
   "metadata": {},
   "source": [
    "For more details and more datatypes: https://docs.python.org/3/library/stdtypes.html#\n"
   ]
  },
  {
   "cell_type": "markdown",
   "metadata": {},
   "source": [
    "## If Else Statments \n",
    "\n",
    "10001001010 - this is what computers understand. \n",
    "At its core, programming is a bunch of logical true false statements. \n",
    "\"If\" statements do just that.\n",
    "\n",
    "Change the variable num above to get an idea of how if statements work:"
   ]
  },
  {
   "cell_type": "code",
   "execution_count": null,
   "metadata": {},
   "outputs": [],
   "source": [
    "num = 17\n",
    "if num == 17:\n",
    "    print(\"num's value is \" + str(num) + \"!\")\n",
    "else:\n",
    "    print(\"num's value is not 17, it is \" + str(num) + \"!\")\n",
    "    \n",
    "if num%4 ==0: \n",
    "    print(\"My 4th reminder is 0\")\n",
    "elif num%4 ==1:\n",
    "    print(\"My 4th reminder is 1\")\n",
    "elif num%4 ==2:\n",
    "    print(\"My 4th reminder is 2\")\n",
    "else:\n",
    "    print(\"My 4th reminder is 3\")\n",
    "    \n",
    "    "
   ]
  },
  {
   "cell_type": "markdown",
   "metadata": {},
   "source": [
    "Write a if statement that prints if a variable is odd or even (hint: use the % operator)"
   ]
  },
  {
   "cell_type": "code",
   "execution_count": null,
   "metadata": {},
   "outputs": [],
   "source": [
    "num = 7 # Make sure it is an integer\n",
    "\n",
    "# Your code goes here:\n"
   ]
  },
  {
   "cell_type": "markdown",
   "metadata": {},
   "source": [
    "For more info on if statments and other forms of control flow: https://docs.python.org/3/tutorial/controlflow.html"
   ]
  },
  {
   "cell_type": "markdown",
   "metadata": {},
   "source": [
    "## Python Lists:\n",
    "\n",
    "Python indicies start at 0.\n",
    "\n",
    "This is how we access variables of a list:"
   ]
  },
  {
   "cell_type": "code",
   "execution_count": null,
   "metadata": {},
   "outputs": [],
   "source": [
    "ls = [\"a\",\"b\",\"c\",\"d\",\"e\",0,1,2,3,4,5,6,7,8,9] # Define a list. Lists can contain any type of object.\n",
    "print(ls[0]) # First element of ls\n",
    "print(ls[3]) # Fourth element of ls"
   ]
  },
  {
   "cell_type": "markdown",
   "metadata": {},
   "source": [
    "### print the 5th element of the Python list called \"ls\" "
   ]
  },
  {
   "cell_type": "code",
   "execution_count": null,
   "metadata": {},
   "outputs": [],
   "source": []
  },
  {
   "cell_type": "markdown",
   "metadata": {},
   "source": [
    "### If you got \"e\", good job!"
   ]
  },
  {
   "cell_type": "markdown",
   "metadata": {},
   "source": [
    "## Loops\n",
    "Loops are useful way to make changes to an array/list. \n",
    "\n",
    "As those who are familiar with matricies know, operations on multidimensinal objects are hard to comprehand. \n",
    "\n",
    "Using loops makes such tasks easier. Instead of treating the list as one object, we can treat each of its element as an object\n",
    "\n",
    "Here is are some basic loop exmpales example:"
   ]
  },
  {
   "cell_type": "code",
   "execution_count": 2,
   "metadata": {},
   "outputs": [
    {
     "name": "stdout",
     "output_type": "stream",
     "text": [
      "0\n",
      "1\n",
      "2\n",
      "3\n",
      "4\n",
      "5\n",
      "6\n",
      "7\n",
      "8\n",
      "9\n"
     ]
    }
   ],
   "source": [
    "int_list = [0,1,2,3,4,5,6,7,8,9]\n",
    "for each in int_list:\n",
    "    print(each)"
   ]
  },
  {
   "cell_type": "code",
   "execution_count": 4,
   "metadata": {},
   "outputs": [
    {
     "name": "stdout",
     "output_type": "stream",
     "text": [
      "0\n",
      "1\n",
      "0\n",
      "1\n",
      "0\n",
      "1\n",
      "0\n",
      "1\n",
      "0\n",
      "1\n"
     ]
    }
   ],
   "source": [
    "for each in int_list:\n",
    "    print(each%2)"
   ]
  },
  {
   "cell_type": "code",
   "execution_count": 10,
   "metadata": {},
   "outputs": [
    {
     "name": "stdout",
     "output_type": "stream",
     "text": [
      "[0, 1, 4, 9, 16, 25, 36, 49, 64, 81]\n"
     ]
    }
   ],
   "source": [
    "squares = [] \n",
    "for each in int_list:\n",
    "    squares.append(each**2) # The append function is how we add elements to an existing array\n",
    "print(squares)"
   ]
  },
  {
   "cell_type": "code",
   "execution_count": 11,
   "metadata": {},
   "outputs": [
    {
     "name": "stdout",
     "output_type": "stream",
     "text": [
      "0\n",
      "1\n",
      "2\n",
      "3\n",
      "4\n",
      "5\n",
      "6\n",
      "7\n",
      "8\n",
      "9\n"
     ]
    }
   ],
   "source": [
    "for i in range(0,len(int_list)):\n",
    "    print(int_list[i])"
   ]
  },
  {
   "cell_type": "markdown",
   "metadata": {},
   "source": [
    "### Print every other element in ls starting with \"b\""
   ]
  },
  {
   "cell_type": "code",
   "execution_count": null,
   "metadata": {},
   "outputs": [],
   "source": [
    "ls = [\"a\",\"b\",\"c\",\"d\",\"e\",0,1,2,3,4,5,6,7,8,9]\n",
    "\n",
    "### Your code goes here: Remember, indexes start at 0 in Python\n",
    "\n",
    "\n",
    "\n"
   ]
  },
  {
   "cell_type": "markdown",
   "metadata": {},
   "source": [
    "### Create a new list called ls_rev which reverses the order of the elements in ls. \n",
    "(Hint: it should look like [9,8,7,...,\"c\",\"b\",\"a\"])\n",
    "\n",
    "\n",
    "(Hint: Python saves object by memory not by value )"
   ]
  },
  {
   "cell_type": "code",
   "execution_count": null,
   "metadata": {},
   "outputs": [],
   "source": [
    "ls_rev = []\n",
    "\n",
    "## Your code goes here: \n"
   ]
  },
  {
   "cell_type": "markdown",
   "metadata": {},
   "source": [
    "### Append a new list called ls_new to ls"
   ]
  },
  {
   "cell_type": "code",
   "execution_count": null,
   "metadata": {},
   "outputs": [],
   "source": [
    "ls_new = [\"dog\",\"cat\",\"cow\"]"
   ]
  },
  {
   "cell_type": "code",
   "execution_count": null,
   "metadata": {},
   "outputs": [],
   "source": []
  },
  {
   "cell_type": "markdown",
   "metadata": {},
   "source": [
    "## Python Dictionaries"
   ]
  },
  {
   "cell_type": "markdown",
   "metadata": {},
   "source": [
    "### Below there is a Python dictionary called params. \n",
    "### For machine learning algorithms, we often input hyperparameters in the form of a dictionary.\n"
   ]
  },
  {
   "cell_type": "code",
   "execution_count": null,
   "metadata": {},
   "outputs": [],
   "source": [
    "\n",
    "params = {\n",
    " 'gamma': 0,\n",
    " 'learning_rate': 0.1,\n",
    " 'max_delta_step': 1,\n",
    " 'max_depth': 10,\n",
    " 'n_estimators': 100,\n",
    " 'objective': 'binary:logistic',\n",
    " 'reg_alpha': 0.4,\n",
    " 'reg_lambda': 0.8,\n",
    " 'scale_pos_weight': 1,\n",
    " 'seed': 0,\n",
    " 'silent': 1,\n",
    " 'subsample': 1}"
   ]
  },
  {
   "cell_type": "markdown",
   "metadata": {},
   "source": [
    "To get the max_depth of params we do:"
   ]
  },
  {
   "cell_type": "code",
   "execution_count": null,
   "metadata": {},
   "outputs": [],
   "source": [
    "params[\"max_depth\"]"
   ]
  },
  {
   "cell_type": "markdown",
   "metadata": {},
   "source": [
    "### Get the value of learning_rate from params"
   ]
  },
  {
   "cell_type": "code",
   "execution_count": null,
   "metadata": {},
   "outputs": [],
   "source": []
  },
  {
   "cell_type": "markdown",
   "metadata": {},
   "source": [
    "### Add a new value to params called \"min_child_weight\", set its value to 5 "
   ]
  },
  {
   "cell_type": "code",
   "execution_count": null,
   "metadata": {},
   "outputs": [],
   "source": []
  },
  {
   "cell_type": "markdown",
   "metadata": {},
   "source": [
    "## Pandas DataFrame \n",
    "### If not already installed, install pandas\n",
    "\n",
    "Python is an object oriented programing langauge (OOP).\n",
    "\n",
    "Strings, lists, and dictionaries are all examples of objects in python.\n",
    "\n",
    "Objects have attributes, things that you can get from the object, in the case of a list we can get the length of a str.\n",
    "\n",
    "Objects have functions, which can transform the object or use the object to make a different transformation. \n",
    "\n",
    "Now, we will import a package called pandas. This package has an object called a DataFrame which is very useful for data science purposes. \n",
    "\n",
    "To access attributes we use the: $\\text{name_of_obj.attribute} $\n",
    "\n",
    "To access functions we use: $\\text{name_of_obj.function(params,of,function)}$\n",
    "\n"
   ]
  },
  {
   "cell_type": "code",
   "execution_count": 12,
   "metadata": {},
   "outputs": [],
   "source": [
    "import pandas as pd # This imports the pandas module into python"
   ]
  },
  {
   "cell_type": "markdown",
   "metadata": {},
   "source": [
    "### In this directory, there is a file called \"titanic_train.csv\". \n",
    "### Create a DataFrame called \"train\" from this csv using the read_csv function in the pandas module"
   ]
  },
  {
   "cell_type": "code",
   "execution_count": 13,
   "metadata": {},
   "outputs": [],
   "source": [
    "train = pd.read_csv(\"titanic_train.csv\") # This creates the data frame using the read_csv function of the pandas module"
   ]
  },
  {
   "cell_type": "markdown",
   "metadata": {},
   "source": [
    "### Get the dimension of train using the \"shape\" attribute"
   ]
  },
  {
   "cell_type": "code",
   "execution_count": null,
   "metadata": {},
   "outputs": [],
   "source": []
  },
  {
   "cell_type": "markdown",
   "metadata": {},
   "source": [
    "### Find the column names of train using the \"column\" attribute"
   ]
  },
  {
   "cell_type": "code",
   "execution_count": null,
   "metadata": {},
   "outputs": [],
   "source": []
  },
  {
   "cell_type": "markdown",
   "metadata": {},
   "source": [
    "### Create a new variable called train_target (pandas series) that is equal to \"Survived\" column of train"
   ]
  },
  {
   "cell_type": "code",
   "execution_count": null,
   "metadata": {},
   "outputs": [],
   "source": []
  },
  {
   "cell_type": "markdown",
   "metadata": {},
   "source": [
    "### Drop the \"Survived\",'Ticket' columns from train"
   ]
  },
  {
   "cell_type": "code",
   "execution_count": null,
   "metadata": {},
   "outputs": [],
   "source": []
  },
  {
   "cell_type": "markdown",
   "metadata": {},
   "source": [
    "### Find the missing values of the \"Age\" column in train"
   ]
  },
  {
   "cell_type": "code",
   "execution_count": null,
   "metadata": {},
   "outputs": [],
   "source": []
  },
  {
   "cell_type": "markdown",
   "metadata": {},
   "source": [
    "### Impute the missing value of the \"Age\" column to the mean of the column"
   ]
  },
  {
   "cell_type": "code",
   "execution_count": null,
   "metadata": {},
   "outputs": [],
   "source": []
  },
  {
   "cell_type": "markdown",
   "metadata": {},
   "source": [
    "# Good Job!"
   ]
  },
  {
   "cell_type": "code",
   "execution_count": null,
   "metadata": {},
   "outputs": [],
   "source": []
  }
 ],
 "metadata": {
  "kernelspec": {
   "display_name": "Python [conda env:data_science_club]",
   "language": "python",
   "name": "conda-env-data_science_club-py"
  },
  "language_info": {
   "codemirror_mode": {
    "name": "ipython",
    "version": 3
   },
   "file_extension": ".py",
   "mimetype": "text/x-python",
   "name": "python",
   "nbconvert_exporter": "python",
   "pygments_lexer": "ipython3",
   "version": "3.6.6"
  }
 },
 "nbformat": 4,
 "nbformat_minor": 2
}
